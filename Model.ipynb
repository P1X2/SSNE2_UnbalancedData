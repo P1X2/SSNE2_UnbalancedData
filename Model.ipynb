{
 "cells": [
  {
   "cell_type": "code",
   "execution_count": 22,
   "metadata": {},
   "outputs": [],
   "source": [
    "import pandas as pd\n",
    "import torch\n",
    "import torch.nn as nn\n",
    "import torch.optim as optim\n",
    "import torch.utils.data as data\n",
    "from sklearn.preprocessing import StandardScaler\n",
    "import numpy as np\n",
    "from matplotlib import pyplot as plt\n"
   ]
  },
  {
   "cell_type": "code",
   "execution_count": 23,
   "metadata": {},
   "outputs": [
    {
     "data": {
      "text/plain": [
       "141592"
      ]
     },
     "execution_count": 23,
     "metadata": {},
     "output_type": "execute_result"
    }
   ],
   "source": [
    "df_train = pd.read_csv(\"train_data.csv\")\n",
    "df_train = df_train.drop(columns=\"SubwayStation\")\n",
    "\n",
    "df_test = pd.read_csv(\"test_data.csv\")\n",
    "df_test = df_test.drop(columns=[\"SubwayStation\"])\n",
    "df_train[\"SalePrice\"].values[0]"
   ]
  },
  {
   "cell_type": "markdown",
   "metadata": {},
   "source": [
    "Spytac sie prowadzacych czy OHE jest lepsze, czy mapping; jakby ujowo działało, to dorzucic stacje metra jeszcze"
   ]
  },
  {
   "cell_type": "code",
   "execution_count": 24,
   "metadata": {},
   "outputs": [],
   "source": [
    "def encode_data(df:pd.DataFrame):\n",
    "    busTimeMapping = {'5min~10min': 2, '0~5min': 1, '10min~15min': 3}\n",
    "    subwayTimeMapping = {'5min~10min': 2, '0-5min': 1, '10min~15min': 3, '15min~20min':4, 'no_bus_stop_nearby':5}\n",
    "\n",
    "    df['TimeToBusStop'] = df['TimeToBusStop'].replace(busTimeMapping)\n",
    "    df['TimeToSubway'] = df['TimeToSubway'].replace(subwayTimeMapping)\n",
    "\n",
    "    # nie wiem czy jest roznica miedzy mappingiem czy OHE\n",
    "\n",
    "    df = pd.get_dummies(df, columns=[\"HallwayType\", \"HeatingType\", \"AptManageType\"])\n",
    "\n",
    "    return df\n",
    "\n",
    "\n",
    "\n",
    "def encode_labels(df:pd.DataFrame):\n",
    "    i=0\n",
    "    for value in df.SalePrice.values:\n",
    "        if value < 100000:\n",
    "            df.SalePrice.values[i] = 0\n",
    "        elif value < 350000:\n",
    "            df.SalePrice.values[i] = 1\n",
    "        else:\n",
    "            df.SalePrice.values[i] = 2\n",
    "        i += 1\n",
    "    return df"
   ]
  },
  {
   "cell_type": "code",
   "execution_count": 25,
   "metadata": {},
   "outputs": [],
   "source": [
    "df_train = encode_data(df_train)\n",
    "df_train = encode_labels(df_train)\n",
    "df_test = encode_data(df_test)\n",
    "\n"
   ]
  },
  {
   "cell_type": "code",
   "execution_count": 26,
   "metadata": {},
   "outputs": [
    {
     "data": {
      "text/plain": [
       "SalePrice\n",
       "1    2998\n",
       "2     570\n",
       "0     556\n",
       "Name: count, dtype: int64"
      ]
     },
     "execution_count": 26,
     "metadata": {},
     "output_type": "execute_result"
    }
   ],
   "source": [
    "df_train.SalePrice.value_counts()"
   ]
  },
  {
   "cell_type": "code",
   "execution_count": 27,
   "metadata": {},
   "outputs": [],
   "source": [
    "df_train = pd.get_dummies(df_train, columns=[\"SalePrice\"])"
   ]
  },
  {
   "cell_type": "code",
   "execution_count": 28,
   "metadata": {},
   "outputs": [],
   "source": [
    "train = df_train.sample(frac=0.8, random_state=997)\n",
    "val = df_train.drop(train.index)"
   ]
  },
  {
   "cell_type": "code",
   "execution_count": 29,
   "metadata": {},
   "outputs": [],
   "source": [
    "X_train = train.values[:, :-3].astype('float32')\n",
    "X_val = val.values[:, :-3].astype('float32')\n",
    "X_test = df_test.values.astype('float32')\n",
    "\n",
    "Y_train = train.values[:, -3:].astype('float32')\n",
    "Y_val = val.values[:, -3:].astype('float32')"
   ]
  },
  {
   "cell_type": "code",
   "execution_count": 30,
   "metadata": {},
   "outputs": [],
   "source": [
    "# normalizacja scalerem filtrowanym do danych treningowych\n",
    "scaler = StandardScaler()\n",
    "scaler.fit(np.vstack((X_train, X_val)))\n",
    "X_train_norm = scaler.transform(X_train)\n",
    "X_val_norm = scaler.transform(X_val)\n",
    "X_test_norm = scaler.transform(X_test)\n"
   ]
  },
  {
   "cell_type": "code",
   "execution_count": 31,
   "metadata": {},
   "outputs": [
    {
     "data": {
      "text/plain": [
       "device(type='cuda')"
      ]
     },
     "execution_count": 31,
     "metadata": {},
     "output_type": "execute_result"
    }
   ],
   "source": [
    "if torch.cuda.is_available():\n",
    "    device = torch.device('cuda')\n",
    "else:\n",
    "    device = torch.device('cpu')\n",
    "\n",
    "device"
   ]
  },
  {
   "cell_type": "code",
   "execution_count": 32,
   "metadata": {},
   "outputs": [],
   "source": [
    "train_ds = data.TensorDataset(torch.from_numpy(X_train_norm).to(device),torch.from_numpy(Y_train).to(device))\n",
    "val_ds = data.TensorDataset(torch.from_numpy(X_val_norm).to(device),torch.from_numpy(Y_val).to(device))\n",
    "test_ds = data.TensorDataset(torch.from_numpy(X_test_norm).to(device),torch.zeros(X_test_norm.shape[0], 1).to(device))\n",
    "\n",
    "train_loader = data.DataLoader(train_ds, shuffle=True, batch_size=1000)\n",
    "val_loader = data.DataLoader(val_ds, batch_size=X_val_norm.shape[0])\n",
    "test_loader = data.DataLoader(test_ds, batch_size=1000)"
   ]
  },
  {
   "cell_type": "code",
   "execution_count": 33,
   "metadata": {},
   "outputs": [],
   "source": [
    "class Aproximator(nn.Module):\n",
    "\n",
    "    def __init__(self, num_inputs, num_labels, hidden_size = [30, 30, 30], BN=False, dropout=0):\n",
    "        super(Aproximator,self).__init__()\n",
    "\n",
    "        layers = []\n",
    "        layer_sizes = [num_inputs] + hidden_size\n",
    "        for layer in range (1, len(layer_sizes)):\n",
    "            if BN:\n",
    "                layers += [nn.Linear(layer_sizes[layer-1], layer_sizes[layer]),\n",
    "                           nn.BatchNorm1d(layer_sizes[layer]),\n",
    "                           nn.Dropout(dropout),\n",
    "                           torch.nn.Tanh()\n",
    "                           ]\n",
    "            else:\n",
    "                layers += [nn.Linear(layer_sizes[layer-1], layer_sizes[layer]),\n",
    "                           nn.Dropout(dropout),\n",
    "                           torch.nn.Tanh()\n",
    "                           ]\n",
    "        layers += [nn.Linear(layer_sizes[-1], num_labels)]\n",
    "\n",
    "        self.layers = nn.Sequential(*layers)\n",
    "\n",
    "    def forward(self, x):\n",
    "        return self.layers(x)\n"
   ]
  },
  {
   "cell_type": "code",
   "execution_count": 34,
   "metadata": {},
   "outputs": [],
   "source": [
    "####### Parametry\n",
    "weight_decay = 1e-2\n",
    "lr = 1e-3\n",
    "\n",
    "input_size = X_train_norm.shape[1]\n",
    "out_size = 3\n",
    "hidden_sizes = [100, 80, 50, 30]\n",
    "dropout = 0.2\n",
    "BN=True\n",
    "\n",
    "weights_loss = torch.tensor([6.86, 1.33, 7.27])\n",
    "\n",
    "#######\n",
    "Aprox1 = Aproximator(input_size, out_size, hidden_sizes, BN=BN, dropout=dropout).to(device)\n",
    "\n",
    "\n",
    "optim = torch.optim.Adam(Aprox1.parameters(), weight_decay=weight_decay, lr=lr)\n",
    "loss_fnc = torch.nn.CrossEntropyLoss(weight=weights_loss).to(device)\n"
   ]
  },
  {
   "cell_type": "code",
   "execution_count": 35,
   "metadata": {},
   "outputs": [],
   "source": [
    "def measure_accuracy(model, data_loader):\n",
    "    positive=0\n",
    "    total = 0\n",
    "\n",
    "    with torch.no_grad():\n",
    "        model.eval()\n",
    "        for input, labels in data_loader:\n",
    "            output = torch.softmax(model(input), dim=1)\n",
    "\n",
    "            positive += sum(torch.argmax(output, dim=1) == torch.argmax(labels, dim=1))\n",
    "\n",
    "            total+=input.shape[0]\n",
    "\n",
    "\n",
    "    return  positive/total"
   ]
  },
  {
   "cell_type": "code",
   "execution_count": 36,
   "metadata": {},
   "outputs": [],
   "source": [
    "def train(data_loader, epoch):\n",
    "\n",
    "    Aprox1.train(mode=True)\n",
    "    acc=[]\n",
    "    loss_=[]\n",
    "    epochs=[]\n",
    "\n",
    "    for n in range(epoch):\n",
    "\n",
    "        epoch_losses = []\n",
    "        for input, label in data_loader:\n",
    "\n",
    "            pred = Aprox1.forward(input)\n",
    "            loss = loss_fnc(pred, label)\n",
    "\n",
    "            optim.zero_grad()\n",
    "            loss.backward()\n",
    "            optim.step()\n",
    "\n",
    "            epoch_losses.append(loss.item())\n",
    "\n",
    "\n",
    "        if n%10==0:\n",
    "            loss_mean = np.array(epoch_losses).mean()\n",
    "            val_acc = measure_accuracy(Aprox1, val_loader)\n",
    "\n",
    "            acc.append(val_acc.cpu())\n",
    "            loss_.append(loss_mean)\n",
    "            epochs.append(n)\n",
    "\n",
    "            print(f\"Epoch {n} loss {loss_mean:.3} val_acc {val_acc:.3}\")\n",
    "\n",
    "    Aprox1.eval()\n",
    "\n",
    "    plt.plot(epochs,loss_, label=\"loss value\")\n",
    "    plt.title(\"Loss\")\n",
    "    plt.legend()\n",
    "    plt.show()\n",
    "\n",
    "    plt.plot(epochs, acc, label=\"accuracy\")\n",
    "    plt.title(\"Accuracy\")\n",
    "    plt.legend()\n",
    "    plt.show()\n",
    "\n"
   ]
  },
  {
   "cell_type": "code",
   "execution_count": 37,
   "metadata": {},
   "outputs": [
    {
     "name": "stdout",
     "output_type": "stream",
     "text": [
      "Epoch 0 loss 2.95 val_acc 0.267\n",
      "Epoch 10 loss 1.4 val_acc 0.702\n",
      "Epoch 20 loss 1.01 val_acc 0.782\n",
      "Epoch 30 loss 0.852 val_acc 0.801\n",
      "Epoch 40 loss 0.866 val_acc 0.794\n",
      "Epoch 50 loss 0.879 val_acc 0.807\n",
      "Epoch 60 loss 0.844 val_acc 0.789\n",
      "Epoch 70 loss 0.848 val_acc 0.789\n",
      "Epoch 80 loss 0.859 val_acc 0.793\n",
      "Epoch 90 loss 0.859 val_acc 0.802\n",
      "Epoch 100 loss 0.846 val_acc 0.799\n",
      "Epoch 110 loss 0.845 val_acc 0.785\n",
      "Epoch 120 loss 0.86 val_acc 0.789\n",
      "Epoch 130 loss 0.847 val_acc 0.79\n",
      "Epoch 140 loss 0.82 val_acc 0.815\n",
      "Epoch 150 loss 0.851 val_acc 0.795\n",
      "Epoch 160 loss 0.834 val_acc 0.804\n",
      "Epoch 170 loss 0.833 val_acc 0.783\n",
      "Epoch 180 loss 0.855 val_acc 0.778\n",
      "Epoch 190 loss 0.825 val_acc 0.775\n",
      "Epoch 200 loss 0.849 val_acc 0.806\n",
      "Epoch 210 loss 0.848 val_acc 0.795\n",
      "Epoch 220 loss 0.853 val_acc 0.793\n",
      "Epoch 230 loss 0.851 val_acc 0.799\n",
      "Epoch 240 loss 0.831 val_acc 0.798\n",
      "Epoch 250 loss 0.833 val_acc 0.807\n",
      "Epoch 260 loss 0.848 val_acc 0.801\n",
      "Epoch 270 loss 0.824 val_acc 0.798\n",
      "Epoch 280 loss 0.807 val_acc 0.795\n",
      "Epoch 290 loss 0.825 val_acc 0.796\n",
      "Epoch 300 loss 0.836 val_acc 0.808\n",
      "Epoch 310 loss 0.831 val_acc 0.807\n",
      "Epoch 320 loss 0.812 val_acc 0.808\n",
      "Epoch 330 loss 0.829 val_acc 0.788\n",
      "Epoch 340 loss 0.836 val_acc 0.788\n",
      "Epoch 350 loss 0.842 val_acc 0.789\n",
      "Epoch 360 loss 0.83 val_acc 0.804\n",
      "Epoch 370 loss 0.811 val_acc 0.794\n",
      "Epoch 380 loss 0.804 val_acc 0.81\n",
      "Epoch 390 loss 0.817 val_acc 0.789\n",
      "Epoch 400 loss 0.838 val_acc 0.802\n",
      "Epoch 410 loss 0.807 val_acc 0.8\n",
      "Epoch 420 loss 0.804 val_acc 0.802\n",
      "Epoch 430 loss 0.821 val_acc 0.799\n",
      "Epoch 440 loss 0.832 val_acc 0.794\n",
      "Epoch 450 loss 0.812 val_acc 0.798\n",
      "Epoch 460 loss 0.783 val_acc 0.795\n",
      "Epoch 470 loss 0.802 val_acc 0.81\n",
      "Epoch 480 loss 0.823 val_acc 0.816\n",
      "Epoch 490 loss 0.839 val_acc 0.796\n"
     ]
    },
    {
     "data": {
      "image/png": "[encoded data removed]",
      "text/plain": [
       "<Figure size 640x480 with 1 Axes>"
      ]
     },
     "metadata": {},
     "output_type": "display_data"
    },
    {
     "data": {
      "image/png": "[encoded data removed]",
      "text/plain": [
       "<Figure size 640x480 with 1 Axes>"
      ]
     },
     "metadata": {},
     "output_type": "display_data"
    }
   ],
   "source": [
    "train(train_loader, 500)\n"
   ]
  },
  {
   "cell_type": "code",
   "execution_count": 38,
   "metadata": {},
   "outputs": [],
   "source": [
    "model_path = 'With_BN__dropout__L2reg__500epoch__80acc__lossWeights717.pth'\n",
    "torch.save(Aprox1.state_dict(), model_path)"
   ]
  },
  {
   "cell_type": "code",
   "execution_count": 39,
   "metadata": {},
   "outputs": [],
   "source": [
    "# evalke na testowym jeszcze + zapis do pliku + rzutowanie na [0, 1, 2]"
   ]
  }
 ],
 "metadata": {
  "kernelspec": {
   "display_name": "Python 3",
   "language": "python",
   "name": "python3"
  },
  "language_info": {
   "codemirror_mode": {
    "name": "ipython",
    "version": 3
   },
   "file_extension": ".py",
   "mimetype": "text/x-python",
   "name": "python",
   "nbconvert_exporter": "python",
   "pygments_lexer": "ipython3",
   "version": "3.11.3"
  }
 },
 "nbformat": 4,
 "nbformat_minor": 2
}
