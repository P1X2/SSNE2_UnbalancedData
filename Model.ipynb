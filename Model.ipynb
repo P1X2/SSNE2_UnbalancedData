{
 "cells": [
  {
   "cell_type": "code",
   "execution_count": 157,
   "metadata": {},
   "outputs": [],
   "source": [
    "import pandas as pd\n",
    "import torch\n",
    "import torch.nn as nn\n",
    "import torch.optim as optim\n",
    "import torch.utils.data as data\n",
    "from sklearn.preprocessing import StandardScaler\n",
    "import numpy as np"
   ]
  },
  {
   "cell_type": "code",
   "execution_count": 158,
   "metadata": {},
   "outputs": [],
   "source": [
    "df_train = pd.read_csv(\"train_data.csv\")\n",
    "df_train = df_train.drop(columns=\"SubwayStation\")\n",
    "\n",
    "df_test = pd.read_csv(\"test_data.csv\")\n",
    "df_test = df_test.drop(columns=[\"SubwayStation\"])"
   ]
  },
  {
   "cell_type": "markdown",
   "metadata": {},
   "source": [
    "Spytac sie prowadzacych czy OHE jest lepsze, czy mapping; jakby ujowo działało, to dorzucic stacje metra jeszcze"
   ]
  },
  {
   "cell_type": "code",
   "execution_count": 159,
   "metadata": {},
   "outputs": [],
   "source": [
    "def encode_data(df:pd.DataFrame):\n",
    "    busTimeMapping = {'5min~10min': 2, '0~5min': 1, '10min~15min': 3}\n",
    "    subwayTimeMapping = {'5min~10min': 2, '0-5min': 1, '10min~15min': 3, '15min~20min':4, 'no_bus_stop_nearby':5}\n",
    "\n",
    "    df['TimeToBusStop'] = df['TimeToBusStop'].replace(busTimeMapping)\n",
    "    df['TimeToSubway'] = df['TimeToSubway'].replace(subwayTimeMapping)\n",
    "\n",
    "    # nie wiem czy jest roznica miedzy mappingiem czy OHE\n",
    "\n",
    "    df = pd.get_dummies(df, columns=[\"HallwayType\", \"HeatingType\", \"AptManageType\"])\n",
    "\n",
    "    return df\n"
   ]
  },
  {
   "cell_type": "code",
   "execution_count": 160,
   "metadata": {},
   "outputs": [],
   "source": [
    "df_train = encode_data(df_train)\n",
    "df_test = encode_data(df_test)"
   ]
  },
  {
   "cell_type": "code",
   "execution_count": 161,
   "metadata": {},
   "outputs": [],
   "source": [
    "train = df_train.sample(frac=0.8, random_state=997)\n",
    "val = df_train.drop(train.index)\n"
   ]
  },
  {
   "cell_type": "code",
   "execution_count": 162,
   "metadata": {},
   "outputs": [],
   "source": [
    "X_train = train.values[:, 1:].astype('float32')\n",
    "Y_train = train.values[:, 0].astype('float32')\n",
    "X_val = val.values[:, 1:].astype('float32')\n",
    "Y_val = val.values[:, 0].astype('float32')\n",
    "X_test = df_test.values.astype('float32')"
   ]
  },
  {
   "cell_type": "code",
   "execution_count": 163,
   "metadata": {},
   "outputs": [],
   "source": [
    "# normalizacja scalerem filtrowanym do danych treningowych\n",
    "scaler = StandardScaler()\n",
    "scaler.fit(np.vstack((X_train, X_val)))\n",
    "X_train_norm = scaler.transform(X_train)\n",
    "X_val_norm = scaler.transform(X_val)\n",
    "X_test_norm = scaler.transform(X_test)"
   ]
  },
  {
   "cell_type": "code",
   "execution_count": 164,
   "metadata": {},
   "outputs": [],
   "source": [
    "if torch.cuda.is_available():\n",
    "    device = torch.device('cuda')\n",
    "else:\n",
    "    device = torch.device('cpu')"
   ]
  },
  {
   "cell_type": "code",
   "execution_count": 165,
   "metadata": {},
   "outputs": [],
   "source": [
    "train_ds = data.TensorDataset(torch.from_numpy(X_train_norm).to(device),torch.from_numpy(Y_train).to(device))\n",
    "val_ds = data.TensorDataset(torch.from_numpy(X_val_norm).to(device),torch.from_numpy(Y_val).to(device))\n",
    "test_ds = data.TensorDataset(torch.from_numpy(X_test_norm).to(device),torch.zeros(X_test_norm.shape[0], 1))\n",
    "\n",
    "train_loader = data.DataLoader(train_ds)\n",
    "val_loader = data.DataLoader(val_ds)\n",
    "test_loader = data.DataLoader(test_ds)"
   ]
  },
  {
   "cell_type": "code",
   "execution_count": 166,
   "metadata": {},
   "outputs": [
    {
     "data": {
      "text/plain": [
       "1767"
      ]
     },
     "execution_count": 166,
     "metadata": {},
     "output_type": "execute_result"
    }
   ],
   "source": [
    "class Aproximator(nn.Module);\n",
    "\n",
    "\n",
    "\n",
    "\n",
    "\n",
    "\n",
    "\n",
    "\n",
    "\n",
    "\n",
    "\n",
    "\n",
    "\n",
    "\n"
   ]
  }
 ],
 "metadata": {
  "kernelspec": {
   "display_name": "Python 3",
   "language": "python",
   "name": "python3"
  },
  "language_info": {
   "codemirror_mode": {
    "name": "ipython",
    "version": 3
   },
   "file_extension": ".py",
   "mimetype": "text/x-python",
   "name": "python",
   "nbconvert_exporter": "python",
   "pygments_lexer": "ipython3",
   "version": "3.11.3"
  }
 },
 "nbformat": 4,
 "nbformat_minor": 2
}
