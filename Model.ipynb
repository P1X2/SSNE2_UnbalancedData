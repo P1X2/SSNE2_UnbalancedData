{
 "cells": [
  {
   "cell_type": "code",
   "execution_count": 17,
   "metadata": {},
   "outputs": [],
   "source": [
    "import pandas as pd\n",
    "import torch\n",
    "import torch.nn as nn\n",
    "import torch.optim as optim\n",
    "import torch.utils.data as data\n",
    "from sklearn.preprocessing import StandardScaler\n",
    "import numpy as np\n",
    "from matplotlib import pyplot as plt\n"
   ]
  },
  {
   "cell_type": "code",
   "execution_count": 18,
   "metadata": {},
   "outputs": [
    {
     "data": {
      "text/plain": [
       "141592"
      ]
     },
     "execution_count": 18,
     "metadata": {},
     "output_type": "execute_result"
    }
   ],
   "source": [
    "df_train = pd.read_csv(\"train_data.csv\")\n",
    "df_train = df_train.drop(columns=\"SubwayStation\")\n",
    "\n",
    "df_test = pd.read_csv(\"test_data.csv\")\n",
    "df_test = df_test.drop(columns=[\"SubwayStation\"])\n",
    "df_train[\"SalePrice\"].values[0]"
   ]
  },
  {
   "cell_type": "markdown",
   "metadata": {},
   "source": [
    "Spytac sie prowadzacych czy OHE jest lepsze, czy mapping; jakby ujowo działało, to dorzucic stacje metra jeszcze"
   ]
  },
  {
   "cell_type": "code",
   "execution_count": 19,
   "metadata": {},
   "outputs": [],
   "source": [
    "def encode_data(df:pd.DataFrame):\n",
    "    busTimeMapping = {'5min~10min': 2, '0~5min': 1, '10min~15min': 3}\n",
    "    subwayTimeMapping = {'5min~10min': 2, '0-5min': 1, '10min~15min': 3, '15min~20min':4, 'no_bus_stop_nearby':5}\n",
    "\n",
    "    df['TimeToBusStop'] = df['TimeToBusStop'].replace(busTimeMapping)\n",
    "    df['TimeToSubway'] = df['TimeToSubway'].replace(subwayTimeMapping)\n",
    "\n",
    "    # nie wiem czy jest roznica miedzy mappingiem czy OHE\n",
    "\n",
    "    df = pd.get_dummies(df, columns=[\"HallwayType\", \"HeatingType\", \"AptManageType\"])\n",
    "\n",
    "    return df\n",
    "\n",
    "\n",
    "\n",
    "def encode_labels(df:pd.DataFrame):\n",
    "    i=0\n",
    "    for value in df.SalePrice.values:\n",
    "        if value < 100000:\n",
    "            df.SalePrice.values[i] = 0\n",
    "        elif value < 350000:\n",
    "            df.SalePrice.values[i] = 1\n",
    "        else:\n",
    "            df.SalePrice.values[i] = 2\n",
    "        i += 1\n",
    "    return df"
   ]
  },
  {
   "cell_type": "code",
   "execution_count": 20,
   "metadata": {},
   "outputs": [],
   "source": [
    "df_train = encode_data(df_train)\n",
    "df_train = encode_labels(df_train)\n",
    "df_test = encode_data(df_test)\n",
    "\n"
   ]
  },
  {
   "cell_type": "code",
   "execution_count": 21,
   "metadata": {},
   "outputs": [
    {
     "data": {
      "text/plain": [
       "SalePrice\n",
       "1    2998\n",
       "2     570\n",
       "0     556\n",
       "Name: count, dtype: int64"
      ]
     },
     "execution_count": 21,
     "metadata": {},
     "output_type": "execute_result"
    }
   ],
   "source": [
    "df_train.SalePrice.value_counts()"
   ]
  },
  {
   "cell_type": "code",
   "execution_count": 22,
   "metadata": {},
   "outputs": [],
   "source": [
    "df_train = pd.get_dummies(df_train, columns=[\"SalePrice\"])"
   ]
  },
  {
   "cell_type": "code",
   "execution_count": 23,
   "metadata": {},
   "outputs": [],
   "source": [
    "train = df_train.sample(frac=0.80, random_state=112)\n",
    "# print(train.SalePrice.value_counts())\n",
    "val = df_train.drop(train.index)\n",
    "# print(val.SalePrice.value_counts())"
   ]
  },
  {
   "cell_type": "code",
   "execution_count": 24,
   "metadata": {},
   "outputs": [],
   "source": [
    "X_train = train.values[:, :-3].astype('float32')\n",
    "X_val = val.values[:, :-3].astype('float32')\n",
    "X_test = df_test.values.astype('float32')\n",
    "\n",
    "Y_train = train.values[:, -3:].astype('float32')\n",
    "Y_val = val.values[:, -3:].astype('float32')"
   ]
  },
  {
   "cell_type": "code",
   "execution_count": 25,
   "metadata": {},
   "outputs": [],
   "source": [
    "# normalizacja scalerem filtrowanym do danych treningowych\n",
    "scaler = StandardScaler()\n",
    "scaler.fit(np.vstack((X_train, X_val)))\n",
    "X_train_norm = scaler.transform(X_train)\n",
    "X_val_norm = scaler.transform(X_val)\n",
    "X_test_norm = scaler.transform(X_test)\n"
   ]
  },
  {
   "cell_type": "code",
   "execution_count": 26,
   "metadata": {},
   "outputs": [
    {
     "data": {
      "text/plain": [
       "device(type='cuda')"
      ]
     },
     "execution_count": 26,
     "metadata": {},
     "output_type": "execute_result"
    }
   ],
   "source": [
    "if torch.cuda.is_available():\n",
    "    device = torch.device('cuda')\n",
    "else:\n",
    "    device = torch.device('cpu')\n",
    "\n",
    "device"
   ]
  },
  {
   "cell_type": "code",
   "execution_count": 27,
   "metadata": {},
   "outputs": [],
   "source": [
    "train_ds = data.TensorDataset(torch.from_numpy(X_train_norm).to(device),torch.from_numpy(Y_train).to(device))\n",
    "val_ds = data.TensorDataset(torch.from_numpy(X_val_norm).to(device),torch.from_numpy(Y_val).to(device))\n",
    "test_ds = data.TensorDataset(torch.from_numpy(X_test_norm).to(device),torch.zeros(X_test_norm.shape[0], 1).to(device))\n",
    "\n",
    "train_loader = data.DataLoader(train_ds, shuffle=True, batch_size=X_train_norm.shape[0])\n",
    "val_loader = data.DataLoader(val_ds, batch_size=X_val_norm.shape[0])\n",
    "test_loader = data.DataLoader(test_ds, batch_size=1000)"
   ]
  },
  {
   "cell_type": "code",
   "execution_count": 28,
   "metadata": {},
   "outputs": [],
   "source": [
    "class Aproximator(nn.Module):\n",
    "\n",
    "    def __init__(self, num_inputs, num_labels, hidden_size = [30, 30, 30], BN=False, dropout=0):\n",
    "        super(Aproximator,self).__init__()\n",
    "\n",
    "        layers = []\n",
    "        layer_sizes = [num_inputs] + hidden_size\n",
    "        for layer in range (1, len(layer_sizes)): # tu sie moze jebie\n",
    "            if BN:\n",
    "                layers += [nn.Linear(layer_sizes[layer-1], layer_sizes[layer]),\n",
    "                           nn.BatchNorm1d(layer_sizes[layer]),\n",
    "                           nn.Dropout(dropout),\n",
    "                           torch.nn.LeakyReLU()\n",
    "                           ]\n",
    "            else:\n",
    "                layers += [nn.Linear(layer_sizes[layer-1], layer_sizes[layer]),\n",
    "                           nn.Dropout(dropout),\n",
    "                           torch.nn.LeakyReLU()\n",
    "                           ]\n",
    "        layers += [nn.Linear(layer_sizes[-1], num_labels)]\n",
    "\n",
    "        self.layers = nn.Sequential(*layers)\n",
    "\n",
    "    def forward(self, x):\n",
    "        return self.layers(x)\n"
   ]
  },
  {
   "cell_type": "code",
   "execution_count": 29,
   "metadata": {},
   "outputs": [],
   "source": [
    "####### Parametry\n",
    "weight_decay = 1e-3\n",
    "lr = 1e-3\n",
    "\n",
    "input_size = X_train_norm.shape[1]\n",
    "out_size = Y_train.shape[1]\n",
    "hidden_sizes = [100, 80, 50, 30]\n",
    "# hidden_sizes = [1]\n",
    "dropout = 0.2\n",
    "BN=True\n",
    "\n",
    "weights_loss = torch.tensor([6.86, 1.33, 7.27])\n",
    "\n",
    "epoch = 300\n",
    "max_lr = .01\n",
    "\n",
    "#######\n",
    "Aprox1 = Aproximator(input_size, out_size, hidden_sizes, BN=BN, dropout=dropout).to(device)\n",
    "\n",
    "\n",
    "optim = torch.optim.Adam(Aprox1.parameters(), weight_decay=weight_decay, lr=lr)\n",
    "sched = torch.optim.lr_scheduler.OneCycleLR(optim, max_lr, epochs=epoch, steps_per_epoch=len(train_loader))\n",
    "loss_fnc = torch.nn.CrossEntropyLoss(weight=weights_loss).to(device)\n"
   ]
  },
  {
   "cell_type": "code",
   "execution_count": 30,
   "metadata": {},
   "outputs": [],
   "source": [
    "def measure_accuracy_and_loss_val(model, data_loader):\n",
    "    positive=0\n",
    "    total = 0\n",
    "    loss_sum = []\n",
    "\n",
    "    with torch.no_grad():\n",
    "        model.eval()\n",
    "        for input, labels in data_loader:\n",
    "            output = torch.softmax(model(input), dim=1)\n",
    "\n",
    "            loss_sum += [loss_fnc(output, labels).item()]\n",
    "\n",
    "            positive += sum(torch.argmax(output, dim=1) == torch.argmax(labels, dim=1))\n",
    "\n",
    "            total+=input.shape[0]\n",
    "\n",
    "\n",
    "    return  positive/total, np.array(loss_sum).mean()"
   ]
  },
  {
   "cell_type": "code",
   "execution_count": 31,
   "metadata": {},
   "outputs": [],
   "source": [
    "def train(data_loader, epoch):\n",
    "\n",
    "    Aprox1.train(mode=True)\n",
    "\n",
    "    acc_val=[]\n",
    "    loss_train=[]\n",
    "    loss_val=[]\n",
    "    epochs=[]\n",
    "\n",
    "    for n in range(epoch):\n",
    "\n",
    "        epoch_losses = []\n",
    "        for input, label in data_loader:\n",
    "\n",
    "            pred = Aprox1.forward(input)\n",
    "            loss = loss_fnc(pred, label)\n",
    "\n",
    "            optim.zero_grad()\n",
    "            loss.backward()\n",
    "            optim.step()\n",
    "            sched.step()\n",
    "\n",
    "            epoch_losses.append(loss.item())\n",
    "\n",
    "\n",
    "        if n%100==0:\n",
    "            loss_mean = np.array(epoch_losses).mean()\n",
    "            val_acc, val_loss = measure_accuracy_and_loss_val(Aprox1, val_loader)\n",
    "\n",
    "            acc_val.append(val_acc.cpu())\n",
    "            loss_val.append(val_loss)\n",
    "            loss_train.append(loss_mean)\n",
    "            epochs.append(n)\n",
    "\n",
    "            print(f\"Epoch {n}; train_loss {loss_mean:.3}; val_loss {val_loss:.3}; val_acc {val_acc:.3}\")\n",
    "\n",
    "    Aprox1.eval()\n",
    "\n",
    "    plt.plot(epochs,loss_val, label=\"val loss\")\n",
    "    plt.plot(epochs,loss_train, label=\"train loss\")\n",
    "    plt.title(\"Loss\")\n",
    "    plt.legend()\n",
    "    plt.show()\n",
    "\n",
    "\n",
    "    plt.plot(epochs, acc_val, label=\"val accuracy\")\n",
    "    plt.title(\"Accuracy\")\n",
    "    plt.legend()\n",
    "    plt.show()\n",
    "\n"
   ]
  },
  {
   "cell_type": "code",
   "execution_count": 32,
   "metadata": {},
   "outputs": [
    {
     "name": "stdout",
     "output_type": "stream",
     "text": [
      "Epoch 0; train_loss 3.11; val_loss 3.1; val_acc 0.727\n",
      "Epoch 100; train_loss 0.802; val_loss 1.98; val_acc 0.787\n",
      "Epoch 200; train_loss 0.747; val_loss 1.96; val_acc 0.802\n"
     ]
    },
    {
     "data": {
      "image/png": "[encoded data removed]",
      "text/plain": [
       "<Figure size 640x480 with 1 Axes>"
      ]
     },
     "metadata": {},
     "output_type": "display_data"
    },
    {
     "data": {
      "image/png": "[encoded data removed]",
      "text/plain": [
       "<Figure size 640x480 with 1 Axes>"
      ]
     },
     "metadata": {},
     "output_type": "display_data"
    }
   ],
   "source": [
    "train(train_loader, epoch)"
   ]
  },
  {
   "cell_type": "code",
   "execution_count": 33,
   "metadata": {},
   "outputs": [],
   "source": [
    "# model_path = 'With_BN__dropout__L2reg__500epoch__81acc__lossWeights717__LRELU.pth'\n",
    "# torch.save(Aprox1.state_dict(), model_path)"
   ]
  },
  {
   "cell_type": "code",
   "execution_count": 34,
   "metadata": {},
   "outputs": [],
   "source": [
    "# evalke na testowym jeszcze + zapis do pliku + rzutowanie na [0, 1, 2]"
   ]
  }
 ],
 "metadata": {
  "kernelspec": {
   "display_name": "Python 3",
   "language": "python",
   "name": "python3"
  },
  "language_info": {
   "codemirror_mode": {
    "name": "ipython",
    "version": 3
   },
   "file_extension": ".py",
   "mimetype": "text/x-python",
   "name": "python",
   "nbconvert_exporter": "python",
   "pygments_lexer": "ipython3",
   "version": "3.11.3"
  }
 },
 "nbformat": 4,
 "nbformat_minor": 2
}
